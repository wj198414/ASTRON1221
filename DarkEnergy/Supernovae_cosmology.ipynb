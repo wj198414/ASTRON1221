{
  "nbformat": 4,
  "nbformat_minor": 0,
  "metadata": {
    "colab": {
      "provenance": [],
      "authorship_tag": "ABX9TyMuWauto/dlaKRDRCYtV8UK",
      "include_colab_link": true
    },
    "kernelspec": {
      "name": "python3",
      "display_name": "Python 3"
    },
    "language_info": {
      "name": "python"
    }
  },
  "cells": [
    {
      "cell_type": "markdown",
      "metadata": {
        "id": "view-in-github",
        "colab_type": "text"
      },
      "source": [
        "<a href=\"https://colab.research.google.com/github/wj198414/ASTRON1221/blob/main/DarkEnergy/Supernovae_cosmology.ipynb\" target=\"_parent\"><img src=\"https://colab.research.google.com/assets/colab-badge.svg\" alt=\"Open In Colab\"/></a>"
      ]
    },
    {
      "cell_type": "code",
      "execution_count": 12,
      "metadata": {
        "id": "tpZlVBhKgffv"
      },
      "outputs": [],
      "source": [
        "import numpy as np\n",
        "import matplotlib.pyplot as plt"
      ]
    },
    {
      "cell_type": "code",
      "source": [
        "import astropy.io.ascii\n",
        "import astropy.units as u\n",
        "import astropy.constants as ac"
      ],
      "metadata": {
        "id": "iS6BGbobgovH"
      },
      "execution_count": 13,
      "outputs": []
    },
    {
      "cell_type": "code",
      "source": [
        "from google.colab import files\n",
        "uploaded = files.upload()"
      ],
      "metadata": {
        "colab": {
          "base_uri": "https://localhost:8080/",
          "height": 73
        },
        "id": "x1SQgWjdg6VW",
        "outputId": "c885e633-2586-4058-b88b-482b54ed7c2d"
      },
      "execution_count": 14,
      "outputs": [
        {
          "output_type": "display_data",
          "data": {
            "text/plain": [
              "<IPython.core.display.HTML object>"
            ],
            "text/html": [
              "\n",
              "     <input type=\"file\" id=\"files-af47c4d0-98d9-44a2-987b-dfd3a5934cbb\" name=\"files[]\" multiple disabled\n",
              "        style=\"border:none\" />\n",
              "     <output id=\"result-af47c4d0-98d9-44a2-987b-dfd3a5934cbb\">\n",
              "      Upload widget is only available when the cell has been executed in the\n",
              "      current browser session. Please rerun this cell to enable.\n",
              "      </output>\n",
              "      <script>// Copyright 2017 Google LLC\n",
              "//\n",
              "// Licensed under the Apache License, Version 2.0 (the \"License\");\n",
              "// you may not use this file except in compliance with the License.\n",
              "// You may obtain a copy of the License at\n",
              "//\n",
              "//      http://www.apache.org/licenses/LICENSE-2.0\n",
              "//\n",
              "// Unless required by applicable law or agreed to in writing, software\n",
              "// distributed under the License is distributed on an \"AS IS\" BASIS,\n",
              "// WITHOUT WARRANTIES OR CONDITIONS OF ANY KIND, either express or implied.\n",
              "// See the License for the specific language governing permissions and\n",
              "// limitations under the License.\n",
              "\n",
              "/**\n",
              " * @fileoverview Helpers for google.colab Python module.\n",
              " */\n",
              "(function(scope) {\n",
              "function span(text, styleAttributes = {}) {\n",
              "  const element = document.createElement('span');\n",
              "  element.textContent = text;\n",
              "  for (const key of Object.keys(styleAttributes)) {\n",
              "    element.style[key] = styleAttributes[key];\n",
              "  }\n",
              "  return element;\n",
              "}\n",
              "\n",
              "// Max number of bytes which will be uploaded at a time.\n",
              "const MAX_PAYLOAD_SIZE = 100 * 1024;\n",
              "\n",
              "function _uploadFiles(inputId, outputId) {\n",
              "  const steps = uploadFilesStep(inputId, outputId);\n",
              "  const outputElement = document.getElementById(outputId);\n",
              "  // Cache steps on the outputElement to make it available for the next call\n",
              "  // to uploadFilesContinue from Python.\n",
              "  outputElement.steps = steps;\n",
              "\n",
              "  return _uploadFilesContinue(outputId);\n",
              "}\n",
              "\n",
              "// This is roughly an async generator (not supported in the browser yet),\n",
              "// where there are multiple asynchronous steps and the Python side is going\n",
              "// to poll for completion of each step.\n",
              "// This uses a Promise to block the python side on completion of each step,\n",
              "// then passes the result of the previous step as the input to the next step.\n",
              "function _uploadFilesContinue(outputId) {\n",
              "  const outputElement = document.getElementById(outputId);\n",
              "  const steps = outputElement.steps;\n",
              "\n",
              "  const next = steps.next(outputElement.lastPromiseValue);\n",
              "  return Promise.resolve(next.value.promise).then((value) => {\n",
              "    // Cache the last promise value to make it available to the next\n",
              "    // step of the generator.\n",
              "    outputElement.lastPromiseValue = value;\n",
              "    return next.value.response;\n",
              "  });\n",
              "}\n",
              "\n",
              "/**\n",
              " * Generator function which is called between each async step of the upload\n",
              " * process.\n",
              " * @param {string} inputId Element ID of the input file picker element.\n",
              " * @param {string} outputId Element ID of the output display.\n",
              " * @return {!Iterable<!Object>} Iterable of next steps.\n",
              " */\n",
              "function* uploadFilesStep(inputId, outputId) {\n",
              "  const inputElement = document.getElementById(inputId);\n",
              "  inputElement.disabled = false;\n",
              "\n",
              "  const outputElement = document.getElementById(outputId);\n",
              "  outputElement.innerHTML = '';\n",
              "\n",
              "  const pickedPromise = new Promise((resolve) => {\n",
              "    inputElement.addEventListener('change', (e) => {\n",
              "      resolve(e.target.files);\n",
              "    });\n",
              "  });\n",
              "\n",
              "  const cancel = document.createElement('button');\n",
              "  inputElement.parentElement.appendChild(cancel);\n",
              "  cancel.textContent = 'Cancel upload';\n",
              "  const cancelPromise = new Promise((resolve) => {\n",
              "    cancel.onclick = () => {\n",
              "      resolve(null);\n",
              "    };\n",
              "  });\n",
              "\n",
              "  // Wait for the user to pick the files.\n",
              "  const files = yield {\n",
              "    promise: Promise.race([pickedPromise, cancelPromise]),\n",
              "    response: {\n",
              "      action: 'starting',\n",
              "    }\n",
              "  };\n",
              "\n",
              "  cancel.remove();\n",
              "\n",
              "  // Disable the input element since further picks are not allowed.\n",
              "  inputElement.disabled = true;\n",
              "\n",
              "  if (!files) {\n",
              "    return {\n",
              "      response: {\n",
              "        action: 'complete',\n",
              "      }\n",
              "    };\n",
              "  }\n",
              "\n",
              "  for (const file of files) {\n",
              "    const li = document.createElement('li');\n",
              "    li.append(span(file.name, {fontWeight: 'bold'}));\n",
              "    li.append(span(\n",
              "        `(${file.type || 'n/a'}) - ${file.size} bytes, ` +\n",
              "        `last modified: ${\n",
              "            file.lastModifiedDate ? file.lastModifiedDate.toLocaleDateString() :\n",
              "                                    'n/a'} - `));\n",
              "    const percent = span('0% done');\n",
              "    li.appendChild(percent);\n",
              "\n",
              "    outputElement.appendChild(li);\n",
              "\n",
              "    const fileDataPromise = new Promise((resolve) => {\n",
              "      const reader = new FileReader();\n",
              "      reader.onload = (e) => {\n",
              "        resolve(e.target.result);\n",
              "      };\n",
              "      reader.readAsArrayBuffer(file);\n",
              "    });\n",
              "    // Wait for the data to be ready.\n",
              "    let fileData = yield {\n",
              "      promise: fileDataPromise,\n",
              "      response: {\n",
              "        action: 'continue',\n",
              "      }\n",
              "    };\n",
              "\n",
              "    // Use a chunked sending to avoid message size limits. See b/62115660.\n",
              "    let position = 0;\n",
              "    do {\n",
              "      const length = Math.min(fileData.byteLength - position, MAX_PAYLOAD_SIZE);\n",
              "      const chunk = new Uint8Array(fileData, position, length);\n",
              "      position += length;\n",
              "\n",
              "      const base64 = btoa(String.fromCharCode.apply(null, chunk));\n",
              "      yield {\n",
              "        response: {\n",
              "          action: 'append',\n",
              "          file: file.name,\n",
              "          data: base64,\n",
              "        },\n",
              "      };\n",
              "\n",
              "      let percentDone = fileData.byteLength === 0 ?\n",
              "          100 :\n",
              "          Math.round((position / fileData.byteLength) * 100);\n",
              "      percent.textContent = `${percentDone}% done`;\n",
              "\n",
              "    } while (position < fileData.byteLength);\n",
              "  }\n",
              "\n",
              "  // All done.\n",
              "  yield {\n",
              "    response: {\n",
              "      action: 'complete',\n",
              "    }\n",
              "  };\n",
              "}\n",
              "\n",
              "scope.google = scope.google || {};\n",
              "scope.google.colab = scope.google.colab || {};\n",
              "scope.google.colab._files = {\n",
              "  _uploadFiles,\n",
              "  _uploadFilesContinue,\n",
              "};\n",
              "})(self);\n",
              "</script> "
            ]
          },
          "metadata": {}
        },
        {
          "output_type": "stream",
          "name": "stdout",
          "text": [
            "Saving Tonry_2003..vot to Tonry_2003. (1).vot\n"
          ]
        }
      ]
    },
    {
      "cell_type": "code",
      "source": [
        "dat = astropy.io.ascii.read(\"Tonry_2003.vot\")"
      ],
      "metadata": {
        "id": "MbyNTa-hgr_S",
        "colab": {
          "base_uri": "https://localhost:8080/"
        },
        "outputId": "4e7618b8-87d6-4770-fd90-be92eec8ec35"
      },
      "execution_count": 16,
      "outputs": [
        {
          "output_type": "stream",
          "name": "stderr",
          "text": [
            "/usr/local/lib/python3.10/dist-packages/bs4/builder/__init__.py:545: XMLParsedAsHTMLWarning: It looks like you're parsing an XML document using an HTML parser. If this really is an HTML document (maybe it's XHTML?), you can ignore or filter this warning. If it's XML, you should know that using an XML parser will be more reliable. To parse this document as XML, make sure you have the lxml package installed, and pass the keyword argument `features=\"xml\"` into the BeautifulSoup constructor.\n",
            "  warnings.warn(\n"
          ]
        }
      ]
    },
    {
      "cell_type": "code",
      "source": [
        "distance = 10**dat[\"col8\"] / 72.0 * u.mpc\n",
        "distance_error = (10**(dat[\"col8\"]+dat[\"col9\"]) - 10**dat[\"col8\"]) / 72.0 * u.mpc\n",
        "velocity = 10**dat[\"col7\"] * u.km / u.s\n",
        "plt.plot(distance.to(u.mpc).value, velocity.to(u.km / u.s).value, marker=\".\", color=\"black\", linestyle=\"none\")\n",
        "plt.xscale(\"log\")\n",
        "plt.yscale(\"log\")\n",
        "plt.xlabel(\"Distance [Mpc]\")\n",
        "plt.ylabel(\"Velocity [km/s]\")"
      ],
      "metadata": {
        "id": "DQabFUwxg_K0",
        "colab": {
          "base_uri": "https://localhost:8080/",
          "height": 472
        },
        "outputId": "87ce788c-3ad3-4a0b-e025-5938d05fb75a"
      },
      "execution_count": 21,
      "outputs": [
        {
          "output_type": "execute_result",
          "data": {
            "text/plain": [
              "Text(0, 0.5, 'Velocity [km/s]')"
            ]
          },
          "metadata": {},
          "execution_count": 21
        },
        {
          "output_type": "display_data",
          "data": {
            "text/plain": [
              "<Figure size 640x480 with 1 Axes>"
            ],
            "image/png": "[encoded data removed]"
          },
          "metadata": {}
        }
      ]
    },
    {
      "cell_type": "code",
      "source": [
        "distance = 10**dat[\"col8\"] / 72.0 * u.mpc\n",
        "velocity = 10**dat[\"col7\"] * u.km / u.s\n",
        "plt.errorbar(distance.to(u.mpc).value, velocity.to(u.km / u.s).value, xerr=distance_error.to(u.mpc).value, marker=\".\", color=\"black\", linestyle=\"none\")\n",
        "plt.xlim(0, 700)\n",
        "plt.ylim(0, 4e4)\n",
        "plt.xlabel(\"Distance [Mpc]\")\n",
        "plt.ylabel(\"Velocity [km/s]\")"
      ],
      "metadata": {
        "id": "b3Uj6BNth2zY",
        "colab": {
          "base_uri": "https://localhost:8080/",
          "height": 473
        },
        "outputId": "bc7cd6e5-7019-4505-c93e-65e570b6b1f4"
      },
      "execution_count": 22,
      "outputs": [
        {
          "output_type": "execute_result",
          "data": {
            "text/plain": [
              "Text(0, 0.5, 'Velocity [km/s]')"
            ]
          },
          "metadata": {},
          "execution_count": 22
        },
        {
          "output_type": "display_data",
          "data": {
            "text/plain": [
              "<Figure size 640x480 with 1 Axes>"
            ],
            "image/png": "[encoded data removed]"
          },
          "metadata": {}
        }
      ]
    },
    {
      "cell_type": "code",
      "source": [
        "dat"
      ],
      "metadata": {
        "id": "5NH_UFpeiKkr",
        "colab": {
          "base_uri": "https://localhost:8080/",
          "height": 528
        },
        "outputId": "bdc045f4-4a85-4506-bf2a-166e7eb50832"
      },
      "execution_count": 18,
      "outputs": [
        {
          "output_type": "execute_result",
          "data": {
            "text/plain": [
              "<Table length=230>\n",
              "  col1     col2    col3    col4    col5   ...   col8    col9   col10    col11  \n",
              "  str8   float64 float64 float64   str8   ... float64 float64 float64  float64 \n",
              "-------- ------- ------- ------- -------- ... ------- ------- -------- --------\n",
              " SN1972E  314.84   30.08  0.0023    N5253 ...   2.399   0.033 204.9697 -31.6692\n",
              " SN1980N 240.161 -56.689  0.0056    N1316 ...    3.14   0.043  50.6753 -37.2074\n",
              " SN1981B  292.97  64.743  0.0072    N4536 ...   3.077   0.041 188.6233   2.1995\n",
              " SN1981D 240.161 -56.689  0.0056    N1316 ...   3.044   0.055  50.6753 -37.2074\n",
              " SN1986G 309.543  19.401  0.0027    N5128 ...    2.44   0.035 201.4028 -43.0316\n",
              " SN1988U   8.737 -81.227    0.31     Anon ...   5.096   0.072   3.5756 -30.4164\n",
              " SN1989B 241.991  64.403  0.0036    N3627 ...   2.844    0.03 170.0578  12.9718\n",
              " SN1990N 294.369  75.987  0.0044    N4639 ...   3.204   0.035 190.7367  13.2566\n",
              " SN1990O  37.654   28.36  0.0307 M+034403 ...   3.977   0.025 258.8999  16.3241\n",
              " SN1990T 341.503 -31.526    0.04   P63925 ...   4.101   0.042 299.7601 -56.2583\n",
              "     ...     ...     ...     ...      ... ...     ...     ...      ...      ...\n",
              "SN2000cx 136.506 -52.482   0.007    N0524 ...    3.32   0.023  21.1926    9.509\n",
              "SN2000dk 126.834 -30.344  0.0164    N0382 ...   3.677   0.023  16.8483  32.4068\n",
              "SN2000dz  84.367  -56.39     0.5     Anon ...   5.352   0.053 352.6728   0.3119\n",
              "SN2000ea 167.211 -61.402    0.42     Anon ...   5.091   0.053  32.4751  -5.4719\n",
              "SN2000ec 166.295 -60.176    0.47     Anon ...    5.34   0.043  32.8836  -4.2321\n",
              "SN2000ee 166.045 -53.429    0.47     Anon ...   5.343   0.041  36.8945   1.1971\n",
              "SN2000eg 167.097 -53.108    0.54     Anon ...   5.236   0.049  37.5883   1.0639\n",
              "SN2000eh 188.297 -31.651    0.49     Anon ...   5.224   0.042  63.7604   4.3888\n",
              "SN2000fa 194.167  15.479  0.0218   U03770 ...   3.837   0.026 108.8752  23.4287\n",
              " SN2001V 218.929  77.733  0.0162    N3987 ...   3.662   0.023 179.3542  25.2024"
            ],
            "text/html": [
              "<div><i>Table length=230</i>\n",
              "<table id=\"table135524746404688\" class=\"table-striped table-bordered table-condensed\">\n",
              "<thead><tr><th>col1</th><th>col2</th><th>col3</th><th>col4</th><th>col5</th><th>col6</th><th>col7</th><th>col8</th><th>col9</th><th>col10</th><th>col11</th></tr></thead>\n",
              "<thead><tr><th>str8</th><th>float64</th><th>float64</th><th>float64</th><th>str8</th><th>str8</th><th>float64</th><th>float64</th><th>float64</th><th>float64</th><th>float64</th></tr></thead>\n",
              "<tr><td>SN1972E</td><td>314.84</td><td>30.08</td><td>0.0023</td><td>N5253</td><td>16</td><td>2.839</td><td>2.399</td><td>0.033</td><td>204.9697</td><td>-31.6692</td></tr>\n",
              "<tr><td>SN1980N</td><td>240.161</td><td>-56.689</td><td>0.0056</td><td>N1316</td><td>9</td><td>3.225</td><td>3.14</td><td>0.043</td><td>50.6753</td><td>-37.2074</td></tr>\n",
              "<tr><td>SN1981B</td><td>292.97</td><td>64.743</td><td>0.0072</td><td>N4536</td><td>2</td><td>3.334</td><td>3.077</td><td>0.041</td><td>188.6233</td><td>2.1995</td></tr>\n",
              "<tr><td>SN1981D</td><td>240.161</td><td>-56.689</td><td>0.0056</td><td>N1316</td><td>9</td><td>3.225</td><td>3.044</td><td>0.055</td><td>50.6753</td><td>-37.2074</td></tr>\n",
              "<tr><td>SN1986G</td><td>309.543</td><td>19.401</td><td>0.0027</td><td>N5128</td><td>26</td><td>2.908</td><td>2.44</td><td>0.035</td><td>201.4028</td><td>-43.0316</td></tr>\n",
              "<tr><td>SN1988U</td><td>8.737</td><td>-81.227</td><td>0.31</td><td>Anon</td><td>24</td><td>4.968</td><td>5.096</td><td>0.072</td><td>3.5756</td><td>-30.4164</td></tr>\n",
              "<tr><td>SN1989B</td><td>241.991</td><td>64.403</td><td>0.0036</td><td>N3627</td><td>37</td><td>3.033</td><td>2.844</td><td>0.03</td><td>170.0578</td><td>12.9718</td></tr>\n",
              "<tr><td>SN1990N</td><td>294.369</td><td>75.987</td><td>0.0044</td><td>N4639</td><td>21</td><td>3.12</td><td>3.204</td><td>0.035</td><td>190.7367</td><td>13.2566</td></tr>\n",
              "<tr><td>SN1990O</td><td>37.654</td><td>28.36</td><td>0.0307</td><td>M+034403</td><td>10</td><td>3.964</td><td>3.977</td><td>0.025</td><td>258.8999</td><td>16.3241</td></tr>\n",
              "<tr><td>SN1990T</td><td>341.503</td><td>-31.526</td><td>0.04</td><td>P63925</td><td>10</td><td>4.079</td><td>4.101</td><td>0.042</td><td>299.7601</td><td>-56.2583</td></tr>\n",
              "<tr><td>...</td><td>...</td><td>...</td><td>...</td><td>...</td><td>...</td><td>...</td><td>...</td><td>...</td><td>...</td><td>...</td></tr>\n",
              "<tr><td>SN2000cx</td><td>136.506</td><td>-52.482</td><td>0.007</td><td>N0524</td><td>11:19</td><td>3.322</td><td>3.32</td><td>0.023</td><td>21.1926</td><td>9.509</td></tr>\n",
              "<tr><td>SN2000dk</td><td>126.834</td><td>-30.344</td><td>0.0164</td><td>N0382</td><td>11</td><td>3.692</td><td>3.677</td><td>0.023</td><td>16.8483</td><td>32.4068</td></tr>\n",
              "<tr><td>SN2000dz</td><td>84.367</td><td>-56.39</td><td>0.5</td><td>Anon</td><td>13</td><td>5.176</td><td>5.352</td><td>0.053</td><td>352.6728</td><td>0.3119</td></tr>\n",
              "<tr><td>SN2000ea</td><td>167.211</td><td>-61.402</td><td>0.42</td><td>Anon</td><td>13</td><td>5.1</td><td>5.091</td><td>0.053</td><td>32.4751</td><td>-5.4719</td></tr>\n",
              "<tr><td>SN2000ec</td><td>166.295</td><td>-60.176</td><td>0.47</td><td>Anon</td><td>13</td><td>5.149</td><td>5.34</td><td>0.043</td><td>32.8836</td><td>-4.2321</td></tr>\n",
              "<tr><td>SN2000ee</td><td>166.045</td><td>-53.429</td><td>0.47</td><td>Anon</td><td>13</td><td>5.149</td><td>5.343</td><td>0.041</td><td>36.8945</td><td>1.1971</td></tr>\n",
              "<tr><td>SN2000eg</td><td>167.097</td><td>-53.108</td><td>0.54</td><td>Anon</td><td>13</td><td>5.209</td><td>5.236</td><td>0.049</td><td>37.5883</td><td>1.0639</td></tr>\n",
              "<tr><td>SN2000eh</td><td>188.297</td><td>-31.651</td><td>0.49</td><td>Anon</td><td>13</td><td>5.167</td><td>5.224</td><td>0.042</td><td>63.7604</td><td>4.3888</td></tr>\n",
              "<tr><td>SN2000fa</td><td>194.167</td><td>15.479</td><td>0.0218</td><td>U03770</td><td>11</td><td>3.815</td><td>3.837</td><td>0.026</td><td>108.8752</td><td>23.4287</td></tr>\n",
              "<tr><td>SN2001V</td><td>218.929</td><td>77.733</td><td>0.0162</td><td>N3987</td><td>22</td><td>3.686</td><td>3.662</td><td>0.023</td><td>179.3542</td><td>25.2024</td></tr>\n",
              "</table></div>"
            ]
          },
          "metadata": {},
          "execution_count": 18
        }
      ]
    },
    {
      "cell_type": "code",
      "source": [
        "distance_error"
      ],
      "metadata": {
        "id": "WRR_-L8zkuxx",
        "colab": {
          "base_uri": "https://localhost:8080/",
          "height": 37
        },
        "outputId": "1655d95f-5901-4b21-f083-041aa1f37be0"
      },
      "execution_count": 20,
      "outputs": [
        {
          "output_type": "execute_result",
          "data": {
            "text/plain": [
              "<Quantity [0.01498537, 0.01533443, 0.01526397, 0.01576404, 0.01505454,\n",
              "           0.01639334, 0.01488221, 0.01505454, 0.01471186, 0.01529916,\n",
              "           0.01519384, 0.01474577, 0.01488221, 0.01529916, 0.01481384,\n",
              "           0.01495091, 0.01471186, 0.01505454, 0.01464426, 0.01488221,\n",
              "           0.01498537, 0.01508924, 0.01477976, 0.01474577, 0.01491652,\n",
              "           0.01474577, 0.01477976, 0.01488221, 0.01457698, 0.01488221,\n",
              "           0.01474577, 0.01728493, 0.01471186, 0.01461058, 0.01457698,\n",
              "           0.01474577, 0.01477976, 0.01474577, 0.01474577, 0.01474577,\n",
              "           0.01474577, 0.01533443, 0.01467802, 0.01474577, 0.01495091,\n",
              "           0.01488221, 0.01508924, 0.01474577, 0.01650698, 0.01748508,\n",
              "           0.01594658, 0.01474577, 0.01474577, 0.01467802, 0.01471186,\n",
              "           0.01488221, 0.01481384, 0.01609413, 0.0158368 , 0.01673661,\n",
              "           0.01467802, 0.01501992, 0.01515889, 0.01536977, 0.01481384,\n",
              "           0.01693041, 0.01498537, 0.01474577, 0.0198915 , 0.01830912,\n",
              "           0.01609413, 0.01631802, 0.01609413, 0.01587331, 0.01580038,\n",
              "           0.01609413, 0.01602018, 0.01598334, 0.0158368 , 0.01484798,\n",
              "           0.01474577, 0.01616842, 0.01533443, 0.01569161, 0.01609413,\n",
              "           0.01554775, 0.01764686, 0.01797494, 0.01572778, 0.0158368 ,\n",
              "           0.01467802, 0.01508924, 0.01495091, 0.01522886, 0.01540521,\n",
              "           0.01835133, 0.01533443, 0.01620569, 0.01526397, 0.01491652,\n",
              "           0.01495091, 0.01508924, 0.0187356 , 0.01594658, 0.0158368 ,\n",
              "           0.01580038, 0.01624305, 0.01781015, 0.01598334, 0.01594658,\n",
              "           0.01467802, 0.01598334, 0.01776918, 0.0158368 , 0.01576404,\n",
              "           0.01624305, 0.01673661, 0.01609413, 0.01572778, 0.01602018,\n",
              "           0.01580038, 0.01576404, 0.01598334, 0.01587331, 0.01519384,\n",
              "           0.01576404, 0.01594658, 0.01631802, 0.01594658, 0.0158368 ,\n",
              "           0.01594658, 0.01554775, 0.01558359, 0.01554775, 0.01613123,\n",
              "           0.01554775, 0.01561951, 0.01471186, 0.01464426, 0.01474577,\n",
              "           0.01519384, 0.01814126, 0.01526397, 0.01547631, 0.01650698,\n",
              "           0.01474577, 0.01740474, 0.01540521, 0.01481384, 0.01484798,\n",
              "           0.01481384, 0.01519384, 0.01533443, 0.01540521, 0.01519384,\n",
              "           0.01613123, 0.01681386, 0.01628049, 0.01569161, 0.01565552,\n",
              "           0.01540521, 0.01481384, 0.01471186, 0.01533443, 0.01631802,\n",
              "           0.01464426, 0.01484798, 0.01605711, 0.01481384, 0.0159099 ,\n",
              "           0.01544072, 0.01512403, 0.01467802, 0.01501992, 0.01481384,\n",
              "           0.01481384, 0.01628049, 0.01847853, 0.01561951, 0.01488221,\n",
              "           0.01540521, 0.01533443, 0.01519384, 0.01481384, 0.01529916,\n",
              "           0.01491652, 0.0159099 , 0.01529916, 0.01631802, 0.01512403,\n",
              "           0.01495091, 0.01464426, 0.01519384, 0.02040175, 0.01484798,\n",
              "           0.01708707, 0.01474577, 0.01501992, 0.01536977, 0.01519384,\n",
              "           0.01464426, 0.01498537, 0.01491652, 0.01536977, 0.01551199,\n",
              "           0.01598334, 0.01561951, 0.01572778, 0.01569161, 0.01519384,\n",
              "           0.01624305, 0.01547631, 0.01484798, 0.01464426, 0.01481384,\n",
              "           0.01519384, 0.01488221, 0.01488221, 0.01495091, 0.01464426,\n",
              "           0.01464426, 0.01464426, 0.01569161, 0.01569161, 0.01533443,\n",
              "           0.01526397, 0.01554775, 0.01529916, 0.01474577, 0.01464426] mpc>"
            ],
            "text/latex": "$[0.014985371,~0.015334425,~0.01526397,~\\dots,~0.015299157,~0.014745772,~0.014644262] \\; \\mathrm{mpc}$"
          },
          "metadata": {},
          "execution_count": 20
        }
      ]
    },
    {
      "cell_type": "code",
      "source": [],
      "metadata": {
        "id": "2317vBIyqAHq"
      },
      "execution_count": null,
      "outputs": []
    }
  ]
}