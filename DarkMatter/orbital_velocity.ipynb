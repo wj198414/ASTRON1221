{
  "nbformat": 4,
  "nbformat_minor": 0,
  "metadata": {
    "colab": {
      "provenance": [],
      "authorship_tag": "ABX9TyMyKK0Ddy7lupfzHa0SzQjA",
      "include_colab_link": true
    },
    "kernelspec": {
      "name": "python3",
      "display_name": "Python 3"
    },
    "language_info": {
      "name": "python"
    }
  },
  "cells": [
    {
      "cell_type": "markdown",
      "metadata": {
        "id": "view-in-github",
        "colab_type": "text"
      },
      "source": [
        "<a href=\"https://colab.research.google.com/github/wj198414/ASTRON1221/blob/main/DarkMatter/orbital_velocity.ipynb\" target=\"_parent\"><img src=\"https://colab.research.google.com/assets/colab-badge.svg\" alt=\"Open In Colab\"/></a>"
      ]
    },
    {
      "cell_type": "code",
      "execution_count": 1,
      "metadata": {
        "id": "RdynOjj9XTuJ"
      },
      "outputs": [],
      "source": [
        "import numpy as np"
      ]
    },
    {
      "cell_type": "code",
      "source": [
        "import astropy.units as u\n",
        "import astropy.constants as ac"
      ],
      "metadata": {
        "id": "t0Wfb4lLXYbb"
      },
      "execution_count": 2,
      "outputs": []
    },
    {
      "cell_type": "markdown",
      "source": [
        "This is how we input a latex equation"
      ],
      "metadata": {
        "id": "Hu07qDRhYMUF"
      }
    },
    {
      "cell_type": "markdown",
      "source": [
        "$v_{obital} = \\sqrt{\\frac{GM_\\odot}{r}}$"
      ],
      "metadata": {
        "id": "TTBZz2PKXiZz"
      }
    },
    {
      "cell_type": "code",
      "source": [
        "ac.G.si"
      ],
      "metadata": {
        "colab": {
          "base_uri": "https://localhost:8080/",
          "height": 42
        },
        "id": "c9EpBbNHXeNh",
        "outputId": "08f054e5-bb19-469f-8ebe-66be67e1a38b"
      },
      "execution_count": 6,
      "outputs": [
        {
          "output_type": "execute_result",
          "data": {
            "text/plain": [
              "<<class 'astropy.constants.codata2018.CODATA2018'> name='Gravitational constant' value=6.6743e-11 uncertainty=1.5e-15 unit='m3 / (kg s2)' reference='CODATA 2018'>"
            ],
            "text/latex": "$6.6743 \\times 10^{-11} \\; \\mathrm{\\frac{m^{3}}{kg\\,s^{2}}}$"
          },
          "metadata": {},
          "execution_count": 6
        }
      ]
    },
    {
      "cell_type": "code",
      "source": [
        "v_orbital = np.sqrt(ac.G * u.solMass / u.au)"
      ],
      "metadata": {
        "id": "OSXDNF8YX-qp"
      },
      "execution_count": 9,
      "outputs": []
    },
    {
      "cell_type": "code",
      "source": [
        "print(v_orbital.si, v_orbital.to(u.km / u.s), v_orbital.to(ac.c))"
      ],
      "metadata": {
        "colab": {
          "base_uri": "https://localhost:8080/"
        },
        "id": "edclHfc4ZDxS",
        "outputId": "9f8f8be6-5bd1-4ff1-a109-74f144a1dbb7"
      },
      "execution_count": 12,
      "outputs": [
        {
          "output_type": "stream",
          "name": "stdout",
          "text": [
            "29784.691829676933 m / s 29.784691829676934 km / s 9.935103780921979e-05 2.99792e+08 m / s\n"
          ]
        }
      ]
    },
    {
      "cell_type": "code",
      "source": [
        "v_satellite = np.sqrt(ac.G * u.earthMass / u.earthRad)"
      ],
      "metadata": {
        "id": "B2C2Zf54ZOBk"
      },
      "execution_count": 13,
      "outputs": []
    },
    {
      "cell_type": "code",
      "source": [
        "print(v_satellite.to(u.km / u.s))"
      ],
      "metadata": {
        "colab": {
          "base_uri": "https://localhost:8080/"
        },
        "id": "JPzyI9m_badF",
        "outputId": "2fca1614-9386-443c-c13d-150c953f26d9"
      },
      "execution_count": 14,
      "outputs": [
        {
          "output_type": "stream",
          "name": "stdout",
          "text": [
            "7.905388234385281 km / s\n"
          ]
        }
      ]
    },
    {
      "cell_type": "markdown",
      "source": [
        "Rearrange the equatino above and solve for the radius of a solar-mass black hole:\n",
        "$r = \\frac{GM_\\odot}{c^2}$"
      ],
      "metadata": {
        "id": "NtK5XwGTcRT1"
      }
    },
    {
      "cell_type": "code",
      "source": [
        "r_schwachild = ac.G * u.solMass / ac.c**2\n",
        "print(r_schwachild.to(u.km))"
      ],
      "metadata": {
        "colab": {
          "base_uri": "https://localhost:8080/"
        },
        "id": "G7fIHUkubdn7",
        "outputId": "8f9c4c8e-d705-46d5-8da9-ed5692a2d649"
      },
      "execution_count": 15,
      "outputs": [
        {
          "output_type": "stream",
          "name": "stdout",
          "text": [
            "1.476625038050125 km\n"
          ]
        }
      ]
    },
    {
      "cell_type": "code",
      "source": [],
      "metadata": {
        "id": "NANp5BMEczZV"
      },
      "execution_count": null,
      "outputs": []
    }
  ]
}