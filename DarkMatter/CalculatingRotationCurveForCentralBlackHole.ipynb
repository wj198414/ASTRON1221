{
  "nbformat": 4,
  "nbformat_minor": 0,
  "metadata": {
    "colab": {
      "provenance": [],
      "authorship_tag": "ABX9TyNNzQ3pYnd3Rm6sEPuLYDCV",
      "include_colab_link": true
    },
    "kernelspec": {
      "name": "python3",
      "display_name": "Python 3"
    },
    "language_info": {
      "name": "python"
    }
  },
  "cells": [
    {
      "cell_type": "markdown",
      "metadata": {
        "id": "view-in-github",
        "colab_type": "text"
      },
      "source": [
        "<a href=\"https://colab.research.google.com/github/wj198414/ASTRON1221/blob/main/DarkMatter/CalculatingRotationCurveForCentralBlackHole.ipynb\" target=\"_parent\"><img src=\"https://colab.research.google.com/assets/colab-badge.svg\" alt=\"Open In Colab\"/></a>"
      ]
    },
    {
      "cell_type": "code",
      "execution_count": 2,
      "metadata": {
        "id": "FYtGvvN9bA6Z"
      },
      "outputs": [],
      "source": [
        "import astropy.units as u\n",
        "import astropy.constants as ac\n",
        "import numpy as np"
      ]
    },
    {
      "cell_type": "markdown",
      "source": [
        "How to define a function?"
      ],
      "metadata": {
        "id": "Ll_UmEisbjr_"
      }
    },
    {
      "cell_type": "code",
      "source": [
        "def calculatingOrbitalVelocity(M, R):\n",
        "    \"\"\"\n",
        "    This is a function that calculates the orbital velocity\n",
        "    Input:\n",
        "    M, the mass of the central object\n",
        "    R, the orbital radius of the satellite\n",
        "    Output:\n",
        "    orbitalVelocity, the orbital velocity of the satellite\n",
        "    \"\"\"\n",
        "    orbitalVelocity = np.sqrt(ac.G * M / R)\n",
        "    return orbitalVelocity\n"
      ],
      "metadata": {
        "id": "XN70DBljbREh"
      },
      "execution_count": 10,
      "outputs": []
    },
    {
      "cell_type": "code",
      "source": [
        "# Below we define input M and R\n",
        "M = 1 * u.earthMass\n",
        "R = 1 * u.earthRad\n",
        "\n",
        "# Calculating orbital velocity of an earth satellite\n",
        "# using the predefined function\n",
        "v_earthSatellite = calculatingOrbitalVelocity(M, R)\n",
        "print(v_earthSatellite.to(u.km/u.s))\n"
      ],
      "metadata": {
        "colab": {
          "base_uri": "https://localhost:8080/"
        },
        "id": "NvA1LWTCdP4k",
        "outputId": "8f679b3b-4b65-45ab-9341-b1fd5aa33176"
      },
      "execution_count": 5,
      "outputs": [
        {
          "output_type": "stream",
          "name": "stdout",
          "text": [
            "7.905388234385281 km / s\n"
          ]
        }
      ]
    },
    {
      "cell_type": "markdown",
      "source": [
        "We are going to introduce the concept of an array"
      ],
      "metadata": {
        "id": "khFi5EQofGkd"
      }
    },
    {
      "cell_type": "code",
      "source": [
        "# Orbital radius of the eight solar system planets fron inside out\n",
        "# Mercuty, Venus, Earth, Mars, Jupiter, Saturn, Uranus, Neptune\n",
        "R_planet_arr = np.array([0.4, 0.7, 1.0, 1.5, 5.2, 9.6, 19.2, 30.1]) * u.au"
      ],
      "metadata": {
        "id": "2hEgTuEVdynf"
      },
      "execution_count": 12,
      "outputs": []
    },
    {
      "cell_type": "code",
      "source": [
        "# Now we calculate the orbital velocities for eight planets\n",
        "M_sun = 1 * u.solMass\n",
        "v_planet_arr = calculatingOrbitalVelocity(M_sun, R_planet_arr)\n",
        "print(v_planet_arr.to(u.km/u.s))"
      ],
      "metadata": {
        "colab": {
          "base_uri": "https://localhost:8080/"
        },
        "id": "dUpJfrk6fuIk",
        "outputId": "6daedf97-be66-4ae9-9f4a-0edb18964871"
      },
      "execution_count": 14,
      "outputs": [
        {
          "output_type": "stream",
          "name": "stdout",
          "text": [
            "[47.09373279 35.5995158  29.78469183 24.31909904 13.06145141  9.61296795\n",
            "  6.79739483  5.42887526] km / s\n"
          ]
        }
      ]
    },
    {
      "cell_type": "code",
      "source": [
        "# prompt: can you help me with plotting v_planet_arr and R_planet_arr?\n",
        "\n",
        "import matplotlib.pyplot as plt # importing plotting package\n",
        "\n",
        "plt.plot(R_planet_arr, v_planet_arr.to(u.km/u.s)) # Plotting velocity vs. orbital radius\n",
        "plt.xlabel(\"Orbital Radius (AU)\") # Add x axis label\n",
        "plt.ylabel(\"Orbital Velocity (km/s)\") # Add y axis label\n",
        "plt.show()\n"
      ],
      "metadata": {
        "colab": {
          "base_uri": "https://localhost:8080/",
          "height": 449
        },
        "id": "xKLlimy6g_xX",
        "outputId": "bd080ca5-5ea1-4863-9c22-83dbe0baf851"
      },
      "execution_count": 18,
      "outputs": [
        {
          "output_type": "display_data",
          "data": {
            "text/plain": [
              "<Figure size 640x480 with 1 Axes>"
            ],
            "image/png": "[encoded data removed]"
          },
          "metadata": {}
        }
      ]
    },
    {
      "cell_type": "code",
      "source": [
        "print(np.arange(1, 30) * u.kpc)"
      ],
      "metadata": {
        "colab": {
          "base_uri": "https://localhost:8080/"
        },
        "id": "SzHbjFZkh968",
        "outputId": "2f982fdb-0920-4d35-a9c4-5535ac25b856"
      },
      "execution_count": 20,
      "outputs": [
        {
          "output_type": "stream",
          "name": "stdout",
          "text": [
            "[ 1.  2.  3.  4.  5.  6.  7.  8.  9. 10. 11. 12. 13. 14. 15. 16. 17. 18.\n",
            " 19. 20. 21. 22. 23. 24. 25. 26. 27. 28. 29.] kpc\n"
          ]
        }
      ]
    },
    {
      "cell_type": "code",
      "source": [],
      "metadata": {
        "id": "yv10NRJ2j4Hj"
      },
      "execution_count": null,
      "outputs": []
    }
  ]
}