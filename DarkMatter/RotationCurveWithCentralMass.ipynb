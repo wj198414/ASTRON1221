{
  "nbformat": 4,
  "nbformat_minor": 0,
  "metadata": {
    "colab": {
      "provenance": [],
      "authorship_tag": "ABX9TyPvC4oDOKD0c3593BkyGQCs",
      "include_colab_link": true
    },
    "kernelspec": {
      "name": "python3",
      "display_name": "Python 3"
    },
    "language_info": {
      "name": "python"
    }
  },
  "cells": [
    {
      "cell_type": "markdown",
      "metadata": {
        "id": "view-in-github",
        "colab_type": "text"
      },
      "source": [
        "<a href=\"https://colab.research.google.com/github/wj198414/ASTRON1221/blob/main/DarkMatter/RotationCurveWithCentralMass.ipynb\" target=\"_parent\"><img src=\"https://colab.research.google.com/assets/colab-badge.svg\" alt=\"Open In Colab\"/></a>"
      ]
    },
    {
      "cell_type": "code",
      "execution_count": 1,
      "metadata": {
        "id": "7E7GOocNS389"
      },
      "outputs": [],
      "source": [
        "import astropy.units as u\n",
        "import astropy.constants as ac"
      ]
    },
    {
      "cell_type": "code",
      "source": [
        "import numpy as np"
      ],
      "metadata": {
        "id": "jZeJxSfNTBO_"
      },
      "execution_count": 2,
      "outputs": []
    },
    {
      "cell_type": "code",
      "source": [
        "import matplotlib.pyplot as plt"
      ],
      "metadata": {
        "id": "g86BrPuvTFCl"
      },
      "execution_count": 3,
      "outputs": []
    },
    {
      "cell_type": "markdown",
      "source": [
        "Learn to how to define a function in Python"
      ],
      "metadata": {
        "id": "1Gy6TOR0TL55"
      }
    },
    {
      "cell_type": "code",
      "source": [
        "def calculate_orbital_velocity(M, R):\n",
        "  v = np.sqrt(ac.G * M / R)\n",
        "  return(v)"
      ],
      "metadata": {
        "id": "PDybflsUTIEy"
      },
      "execution_count": 4,
      "outputs": []
    },
    {
      "cell_type": "code",
      "source": [
        "M = 1 * u.solMass\n",
        "R = 1 * u.au\n",
        "v = calculate_orbital_velocity(M, R)\n",
        "print(v.to(u.km/u.s))"
      ],
      "metadata": {
        "colab": {
          "base_uri": "https://localhost:8080/"
        },
        "id": "VCvDeBpFTYxq",
        "outputId": "32652e18-980d-4047-cf88-dce71937d88f"
      },
      "execution_count": 6,
      "outputs": [
        {
          "output_type": "stream",
          "name": "stdout",
          "text": [
            "29.784691829676934 km / s\n"
          ]
        }
      ]
    },
    {
      "cell_type": "markdown",
      "source": [
        "Learn to how to use an array"
      ],
      "metadata": {
        "id": "P3DccXFCToCL"
      }
    },
    {
      "cell_type": "code",
      "source": [
        "R_arr = np.arange(1, 30) * u.au\n",
        "v_arr = calculate_orbital_velocity(M, R_arr)\n",
        "print(v_arr.to(u.km/u.s))\n",
        "#"
      ],
      "metadata": {
        "colab": {
          "base_uri": "https://localhost:8080/"
        },
        "id": "92T_e-zETf2l",
        "outputId": "ef4ee46c-047e-42bf-b0fe-de3f02d47cdc"
      },
      "execution_count": 7,
      "outputs": [
        {
          "output_type": "stream",
          "name": "stdout",
          "text": [
            "[29.78469183 21.06095757 17.19619985 14.89234591 13.32011912 12.15954952\n",
            " 11.25755535 10.53047878  9.92823061  9.41874656  8.98042248  8.59809992\n",
            "  8.2607872   7.96029373  7.69037436  7.44617296  7.22384885  7.02031919\n",
            "  6.83307693  6.66005956  6.49955261  6.35011763  6.21053756  6.07977476\n",
            "  5.95693837  5.84125865  5.73206662  5.62877768  5.53087842] km / s\n"
          ]
        }
      ]
    },
    {
      "cell_type": "code",
      "source": [],
      "metadata": {
        "id": "gcApaeDmT1LF"
      },
      "execution_count": null,
      "outputs": []
    }
  ]
}