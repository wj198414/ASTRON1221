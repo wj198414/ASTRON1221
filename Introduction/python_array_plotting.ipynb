{
  "nbformat": 4,
  "nbformat_minor": 0,
  "metadata": {
    "colab": {
      "provenance": [],
      "authorship_tag": "ABX9TyOi3CdiwMy+iYOIcsR7d9cx",
      "include_colab_link": true
    },
    "kernelspec": {
      "name": "python3",
      "display_name": "Python 3"
    },
    "language_info": {
      "name": "python"
    }
  },
  "cells": [
    {
      "cell_type": "markdown",
      "metadata": {
        "id": "view-in-github",
        "colab_type": "text"
      },
      "source": [
        "<a href=\"https://colab.research.google.com/github/wj198414/ASTRON1221/blob/main/python_array_plotting.ipynb\" target=\"_parent\"><img src=\"https://colab.research.google.com/assets/colab-badge.svg\" alt=\"Open In Colab\"/></a>"
      ]
    },
    {
      "cell_type": "code",
      "execution_count": 2,
      "metadata": {
        "colab": {
          "base_uri": "https://localhost:8080/"
        },
        "id": "iIMF0_EzpHXs",
        "outputId": "cd8b24ce-4277-46f2-cd68-fbdeb0a4086e"
      },
      "outputs": [
        {
          "output_type": "stream",
          "name": "stdout",
          "text": [
            "Hello world!\n"
          ]
        }
      ],
      "source": [
        "print(\"Hello world!\")"
      ]
    },
    {
      "cell_type": "code",
      "source": [
        "import numpy as np"
      ],
      "metadata": {
        "id": "T6ik6ugxp4NE"
      },
      "execution_count": 3,
      "outputs": []
    },
    {
      "cell_type": "code",
      "source": [
        "print(np.sqrt(16))"
      ],
      "metadata": {
        "colab": {
          "base_uri": "https://localhost:8080/"
        },
        "id": "p-SLjUHtqFLf",
        "outputId": "10fdc65e-ee8f-4e19-f84c-d121133cb003"
      },
      "execution_count": 4,
      "outputs": [
        {
          "output_type": "stream",
          "name": "stdout",
          "text": [
            "4.0\n"
          ]
        }
      ]
    },
    {
      "cell_type": "code",
      "source": [
        "import matplotlib.pyplot as plt # import plotting module as plt\n",
        "import numpy as np # import another module to deal numbers\n",
        "\n",
        "xpoints = np.array([1, 8]) # create an array with two numbers 1 and 8,\n",
        "# and store the arry with a name xpoints\n",
        "ypoints = np.array([3, 10]) # create an array with two numbers 3 and 10\n",
        "\n",
        "plt.plot(xpoints, ypoints, marker=\".\", linestyle=\"None\")\n",
        "plt.show()"
      ],
      "metadata": {
        "colab": {
          "base_uri": "https://localhost:8080/",
          "height": 430
        },
        "id": "rjUNUJh0qS7a",
        "outputId": "d36bd015-4e12-4758-91a8-3aceca0298ae"
      },
      "execution_count": 8,
      "outputs": [
        {
          "output_type": "display_data",
          "data": {
            "text/plain": [
              "<Figure size 640x480 with 1 Axes>"
            ],
            "image/png": "[encoded data removed]"
          },
          "metadata": {}
        }
      ]
    },
    {
      "cell_type": "code",
      "source": [],
      "metadata": {
        "id": "YQ0YOFEvrJ_0"
      },
      "execution_count": null,
      "outputs": []
    }
  ]
}
