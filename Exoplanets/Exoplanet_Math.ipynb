{
  "nbformat": 4,
  "nbformat_minor": 0,
  "metadata": {
    "colab": {
      "provenance": [],
      "authorship_tag": "ABX9TyMarBYCHPwSHT67+qBoHrRh",
      "include_colab_link": true
    },
    "kernelspec": {
      "name": "python3",
      "display_name": "Python 3"
    },
    "language_info": {
      "name": "python"
    }
  },
  "cells": [
    {
      "cell_type": "markdown",
      "metadata": {
        "id": "view-in-github",
        "colab_type": "text"
      },
      "source": [
        "<a href=\"https://colab.research.google.com/github/wj198414/ASTRON1221/blob/main/Exoplanets/Exoplanet_Math.ipynb\" target=\"_parent\"><img src=\"https://colab.research.google.com/assets/colab-badge.svg\" alt=\"Open In Colab\"/></a>"
      ]
    },
    {
      "cell_type": "code",
      "execution_count": null,
      "metadata": {
        "id": "z5oWxwXq26vv"
      },
      "outputs": [],
      "source": []
    },
    {
      "cell_type": "markdown",
      "source": [
        "Age, structure, life, mass, size, checmical composition -> life\n",
        "mass, size -> structure"
      ],
      "metadata": {
        "id": "g5fK9Ey24aUU"
      }
    },
    {
      "cell_type": "markdown",
      "source": [
        "$\\delta = (\\frac{R_{planet}}{R_{star}})^2$, to solve for $R_{planet}$, $R_{planet} = \\sqrt\\delta \\times R_{star}$"
      ],
      "metadata": {
        "id": "dEH2xcVJ5jDo"
      }
    },
    {
      "cell_type": "code",
      "source": [
        "import astropy.units as u\n",
        "import astropy.constants as c"
      ],
      "metadata": {
        "id": "W6AEh2Cw4oAt"
      },
      "execution_count": 1,
      "outputs": []
    },
    {
      "cell_type": "code",
      "source": [
        "delta_earth_sun = (u.earthRad / u.solRad)**2"
      ],
      "metadata": {
        "id": "y-K_98gE53MM"
      },
      "execution_count": 5,
      "outputs": []
    },
    {
      "cell_type": "code",
      "source": [
        "print(delta_earth_sun.decompose())"
      ],
      "metadata": {
        "colab": {
          "base_uri": "https://localhost:8080/"
        },
        "id": "DlPPT06r6F06",
        "outputId": "a04ac3e3-dc24-4460-b0bf-74e7901f3e00"
      },
      "execution_count": 6,
      "outputs": [
        {
          "output_type": "stream",
          "name": "stdout",
          "text": [
            "8.40502e-05\n"
          ]
        }
      ]
    },
    {
      "cell_type": "code",
      "source": [
        "delta_jupiter_sun = (u.jupiterRad / u.solRad)**2"
      ],
      "metadata": {
        "id": "tXULaawA6I4i"
      },
      "execution_count": 7,
      "outputs": []
    },
    {
      "cell_type": "code",
      "source": [
        "print(delta_jupiter_sun.decompose())"
      ],
      "metadata": {
        "colab": {
          "base_uri": "https://localhost:8080/"
        },
        "id": "QG-Y91js6XyW",
        "outputId": "72df02aa-5657-4159-ad95-9e127f335a90"
      },
      "execution_count": 12,
      "outputs": [
        {
          "output_type": "stream",
          "name": "stdout",
          "text": [
            "0.0105602\n"
          ]
        }
      ]
    },
    {
      "cell_type": "markdown",
      "source": [
        "$v_{orb} = \\sqrt\\frac{GM}{a}$"
      ],
      "metadata": {
        "id": "LxTrCHmK7tmc"
      }
    },
    {
      "cell_type": "code",
      "source": [
        "import numpy as np\n",
        "v_orb_earth = np.sqrt(c.G * u.solMass / u.AU)\n",
        "print(v_orb_earth.to(u.m / u.s))"
      ],
      "metadata": {
        "colab": {
          "base_uri": "https://localhost:8080/"
        },
        "id": "iL_ZaojQ6ZND",
        "outputId": "58f604bb-2c08-49a4-f185-99b60b49dd14"
      },
      "execution_count": 13,
      "outputs": [
        {
          "output_type": "stream",
          "name": "stdout",
          "text": [
            "29784.691829676933 m / s\n"
          ]
        }
      ]
    },
    {
      "cell_type": "markdown",
      "source": [
        "Since $m_p\\cdot v_p = m_s\\cdot v_s$, $v_s = \\frac{m_p}{m_s} \\times v_p$"
      ],
      "metadata": {
        "id": "_ZM5SUwU9KZ3"
      }
    },
    {
      "cell_type": "code",
      "source": [
        "v_sun = u.earthMass / u.solMass * v_orb_earth\n",
        "print(v_sun.to(u.m / u.s))"
      ],
      "metadata": {
        "colab": {
          "base_uri": "https://localhost:8080/"
        },
        "id": "Ly1pjm--83PV",
        "outputId": "351c8c4d-1ad0-4787-8cc8-637bff1c692f"
      },
      "execution_count": 14,
      "outputs": [
        {
          "output_type": "stream",
          "name": "stdout",
          "text": [
            "0.08945800466923791 m / s\n"
          ]
        }
      ]
    },
    {
      "cell_type": "markdown",
      "source": [
        "$v_s = 0.09\\ m/s (\\frac{m_p}{m_\\oplus})(\\frac{P}{1 yr})^{-1/3}$"
      ],
      "metadata": {
        "id": "ybEhAqZ5BfAh"
      }
    },
    {
      "cell_type": "code",
      "source": [
        "v_s_jupiter = 0.09 * u.m / u.s * (u.jupiterMass / u.earthMass) * (11.9 * u.yr / u.yr)**(-1.0/3.0)\n",
        "print(v_s_jupiter.to(u.m / u.s))"
      ],
      "metadata": {
        "colab": {
          "base_uri": "https://localhost:8080/"
        },
        "id": "LytcZnHP9htQ",
        "outputId": "50a76728-edf5-446e-faff-f6cf8dd78063"
      },
      "execution_count": 16,
      "outputs": [
        {
          "output_type": "stream",
          "name": "stdout",
          "text": [
            "12.529091077198903 m / s\n"
          ]
        }
      ]
    },
    {
      "cell_type": "code",
      "source": [
        "(u.jupiterMass / u.earthMass).decompose()"
      ],
      "metadata": {
        "colab": {
          "base_uri": "https://localhost:8080/",
          "height": 37
        },
        "id": "mPOqAp8QCVb7",
        "outputId": "2800c339-0d08-4c14-a26f-9a8789f726ac"
      },
      "execution_count": 17,
      "outputs": [
        {
          "output_type": "execute_result",
          "data": {
            "text/plain": [
              "Unit(dimensionless with a scale of 317.8284065946748)"
            ],
            "text/latex": "$\\mathrm{317.82841}$"
          },
          "metadata": {},
          "execution_count": 17
        }
      ]
    },
    {
      "cell_type": "code",
      "source": [
        "rho_earth = u.earthMass / (4 * np.pi * u.earthRad**3 / 3.0)\n",
        "print(rho_earth.to(u.g / u.cm**3))"
      ],
      "metadata": {
        "colab": {
          "base_uri": "https://localhost:8080/"
        },
        "id": "rTQFRr-OCi_Z",
        "outputId": "5b67525e-1813-476e-ab01-6b2b1c7612dd"
      },
      "execution_count": 19,
      "outputs": [
        {
          "output_type": "stream",
          "name": "stdout",
          "text": [
            "5.495021865555213 g / cm3\n"
          ]
        }
      ]
    },
    {
      "cell_type": "code",
      "source": [],
      "metadata": {
        "id": "fm98eu9ODH6k"
      },
      "execution_count": null,
      "outputs": []
    }
  ]
}